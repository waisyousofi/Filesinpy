{
 "cells": [
  {
   "cell_type": "code",
   "execution_count": 1,
   "metadata": {},
   "outputs": [
    {
     "data": {
      "text/plain": [
       "'\\n@filename: XlsImport\\n@author: Waisullah yousofi\\n'"
      ]
     },
     "execution_count": 1,
     "metadata": {},
     "output_type": "execute_result"
    }
   ],
   "source": [
    "\"\"\"\n",
    "@filename: XlsImport\n",
    "@author: Waisullah yousofi\n",
    "\"\"\""
   ]
  },
  {
   "cell_type": "markdown",
   "metadata": {},
   "source": [
    "import pandas"
   ]
  },
  {
   "cell_type": "code",
   "execution_count": 2,
   "metadata": {},
   "outputs": [],
   "source": [
    "import pandas as pd"
   ]
  },
  {
   "cell_type": "markdown",
   "metadata": {},
   "source": [
    "assign spreadsheet filename: file"
   ]
  },
  {
   "cell_type": "code",
   "execution_count": 3,
   "metadata": {},
   "outputs": [],
   "source": [
    "file = '..\\dataset/leads.xlsx'"
   ]
  },
  {
   "cell_type": "markdown",
   "metadata": {},
   "source": [
    "load spreadsheet xls"
   ]
  },
  {
   "cell_type": "code",
   "execution_count": 4,
   "metadata": {},
   "outputs": [],
   "source": [
    "xls = pd.ExcelFile(file)"
   ]
  },
  {
   "cell_type": "markdown",
   "metadata": {},
   "source": [
    "print sheet names"
   ]
  },
  {
   "cell_type": "code",
   "execution_count": 5,
   "metadata": {},
   "outputs": [
    {
     "name": "stdout",
     "output_type": "stream",
     "text": [
      "['Telephone', 'WebChat', 'WebForm']\n"
     ]
    }
   ],
   "source": [
    "print(xls.sheet_names)"
   ]
  },
  {
   "cell_type": "markdown",
   "metadata": {},
   "source": [
    "load a sheet into a dataFrame by name"
   ]
  },
  {
   "cell_type": "code",
   "execution_count": 6,
   "metadata": {},
   "outputs": [],
   "source": [
    "dfTel = xls.parse('Telephone')"
   ]
  },
  {
   "cell_type": "code",
   "execution_count": 7,
   "metadata": {},
   "outputs": [
    {
     "name": "stdout",
     "output_type": "stream",
     "text": [
      "   Sr         Company Name   Contact Name  Gender  Age   ProductCategory\n",
      "0   1             ABC Bros       Ravi Raj    Male   18  Web Site Hosting\n",
      "1   2             XYZ Sons    Shyam Patel    Male   30       Domain Name\n",
      "2   3  Chunilal Associates  Sunita Sharma  Female   43     Email Service\n",
      "3   4           Ramlal LLP   Pankaj Gupta    Male   55  Web Site Hosting\n",
      "4   5        Shaan Pvt Ltd    Shaan Reddy    Male   67       Domain Name\n"
     ]
    }
   ],
   "source": [
    "print(dfTel)"
   ]
  },
  {
   "cell_type": "markdown",
   "metadata": {},
   "source": [
    "print the head of the dataFrame df1"
   ]
  },
  {
   "cell_type": "code",
   "execution_count": 8,
   "metadata": {},
   "outputs": [
    {
     "name": "stdout",
     "output_type": "stream",
     "text": [
      "   Sr         Company Name   Contact Name  Gender  Age   ProductCategory\n",
      "0   1             ABC Bros       Ravi Raj    Male   18  Web Site Hosting\n",
      "1   2             XYZ Sons    Shyam Patel    Male   30       Domain Name\n",
      "2   3  Chunilal Associates  Sunita Sharma  Female   43     Email Service\n",
      "3   4           Ramlal LLP   Pankaj Gupta    Male   55  Web Site Hosting\n",
      "4   5        Shaan Pvt Ltd    Shaan Reddy    Male   67       Domain Name\n"
     ]
    }
   ],
   "source": [
    "print(dfTel.head())"
   ]
  },
  {
   "cell_type": "markdown",
   "metadata": {},
   "source": [
    "load a sheet into a dataFrame by name"
   ]
  },
  {
   "cell_type": "code",
   "execution_count": 9,
   "metadata": {},
   "outputs": [],
   "source": [
    "dfChat = xls.parse('WebChat')"
   ]
  },
  {
   "cell_type": "markdown",
   "metadata": {},
   "source": [
    "print the head of the dataFrame df1"
   ]
  },
  {
   "cell_type": "code",
   "execution_count": 10,
   "metadata": {},
   "outputs": [
    {
     "name": "stdout",
     "output_type": "stream",
     "text": [
      "   Sr          Company Name         Contact Name Gender  Age  \\\n",
      "0   1             Sony Mony         Ravina Swamy      F   19   \n",
      "1   2          Star Traders     Ria Karsan Patel      F   29   \n",
      "2   3  Channel Fashions Ltd  Sunita Sunil Sharma      M   49   \n",
      "3   4      Sunderlal & Sons        Pankaja Munde      F   59   \n",
      "4   5  Khanna & Associates         Rajesh Khanna      F   68   \n",
      "\n",
      "       ProductCategory  \n",
      "0          Web Hosting  \n",
      "1  Domain Registration  \n",
      "2        Email Service  \n",
      "3          Web Hosting  \n",
      "4  Domain Registration  \n"
     ]
    }
   ],
   "source": [
    "print(dfChat.head())"
   ]
  },
  {
   "cell_type": "markdown",
   "metadata": {},
   "source": [
    "load a sheet into a dataFrame by name"
   ]
  },
  {
   "cell_type": "code",
   "execution_count": 11,
   "metadata": {},
   "outputs": [],
   "source": [
    "dfForm = xls.parse('WebForm')"
   ]
  },
  {
   "cell_type": "markdown",
   "metadata": {},
   "source": [
    "print the head of the dataFrame df1"
   ]
  },
  {
   "cell_type": "code",
   "execution_count": 12,
   "metadata": {},
   "outputs": [
    {
     "name": "stdout",
     "output_type": "stream",
     "text": [
      "   Sr           Company Name First Name Last Name  Gender  Age ProductCategory\n",
      "0   1                Star TV  Narendra     Gandhi       1   69     Web Hosting\n",
      "1   2        Tata Sons Trust      Bawi       Tata       0   32     Domain Name\n",
      "2   3       Tamil Sarkar LLP      Jaya     Lalita       0   49   Email Hosting\n",
      "3   4  Banerjee & Chatterjee      Mamta      Gosh       0   59     Web Hosting\n",
      "4   5               Reliance     Aakash    Ambani       1   21    All Services\n"
     ]
    }
   ],
   "source": [
    "print(dfForm.head())"
   ]
  },
  {
   "cell_type": "markdown",
   "metadata": {},
   "source": [
    "print sheet names"
   ]
  },
  {
   "cell_type": "code",
   "execution_count": 13,
   "metadata": {},
   "outputs": [
    {
     "name": "stdout",
     "output_type": "stream",
     "text": [
      "['Telephone', 'WebChat', 'WebForm']\n"
     ]
    }
   ],
   "source": [
    "print(xls.sheet_names)"
   ]
  },
  {
   "cell_type": "markdown",
   "metadata": {},
   "source": [
    "load a sheet into a dataFrame by index"
   ]
  },
  {
   "cell_type": "code",
   "execution_count": 14,
   "metadata": {},
   "outputs": [
    {
     "name": "stdout",
     "output_type": "stream",
     "text": [
      "   Sr         Company Name   Contact Name  Gender  Age   ProductCategory\n",
      "0   1             ABC Bros       Ravi Raj    Male   18  Web Site Hosting\n",
      "1   2             XYZ Sons    Shyam Patel    Male   30       Domain Name\n",
      "2   3  Chunilal Associates  Sunita Sharma  Female   43     Email Service\n",
      "3   4           Ramlal LLP   Pankaj Gupta    Male   55  Web Site Hosting\n",
      "4   5        Shaan Pvt Ltd    Shaan Reddy    Male   67       Domain Name\n"
     ]
    }
   ],
   "source": [
    "df0 = xls.parse(0)\n",
    "# print the head of the DataFrame df0\n",
    "print(df0.head())"
   ]
  },
  {
   "cell_type": "markdown",
   "metadata": {},
   "source": [
    "load a sheet into a dataFrame by index"
   ]
  },
  {
   "cell_type": "code",
   "execution_count": 15,
   "metadata": {},
   "outputs": [
    {
     "name": "stdout",
     "output_type": "stream",
     "text": [
      "   Sr          Company Name         Contact Name Gender  Age  \\\n",
      "0   1             Sony Mony         Ravina Swamy      F   19   \n",
      "1   2          Star Traders     Ria Karsan Patel      F   29   \n",
      "2   3  Channel Fashions Ltd  Sunita Sunil Sharma      M   49   \n",
      "3   4      Sunderlal & Sons        Pankaja Munde      F   59   \n",
      "4   5  Khanna & Associates         Rajesh Khanna      F   68   \n",
      "\n",
      "       ProductCategory  \n",
      "0          Web Hosting  \n",
      "1  Domain Registration  \n",
      "2        Email Service  \n",
      "3          Web Hosting  \n",
      "4  Domain Registration  \n"
     ]
    }
   ],
   "source": [
    "df1 = xls.parse(1)\n",
    "# print the head of the DataFrame df1\n",
    "print(df1.head())"
   ]
  },
  {
   "cell_type": "markdown",
   "metadata": {},
   "source": [
    "load a sheet into a dataFrame by index"
   ]
  },
  {
   "cell_type": "code",
   "execution_count": 16,
   "metadata": {},
   "outputs": [
    {
     "name": "stdout",
     "output_type": "stream",
     "text": [
      "   Sr           Company Name First Name Last Name  Gender  Age ProductCategory\n",
      "0   1                Star TV  Narendra     Gandhi       1   69     Web Hosting\n",
      "1   2        Tata Sons Trust      Bawi       Tata       0   32     Domain Name\n",
      "2   3       Tamil Sarkar LLP      Jaya     Lalita       0   49   Email Hosting\n",
      "3   4  Banerjee & Chatterjee      Mamta      Gosh       0   59     Web Hosting\n",
      "4   5               Reliance     Aakash    Ambani       1   21    All Services\n"
     ]
    }
   ],
   "source": [
    "df2 = xls.parse(2)\n",
    "# print the head of the DataFrame df2\n",
    "print(df2.head())"
   ]
  },
  {
   "cell_type": "markdown",
   "metadata": {},
   "source": [
    "load a sheet into a dataFrame by index"
   ]
  },
  {
   "cell_type": "code",
   "execution_count": 20,
   "metadata": {},
   "outputs": [],
   "source": [
    "df3 = xls.parse(2)"
   ]
  },
  {
   "cell_type": "markdown",
   "metadata": {},
   "source": [
    "print sheet names"
   ]
  },
  {
   "cell_type": "code",
   "execution_count": 21,
   "metadata": {},
   "outputs": [
    {
     "name": "stdout",
     "output_type": "stream",
     "text": [
      "['Telephone', 'WebChat', 'WebForm']\n"
     ]
    }
   ],
   "source": [
    "print(xls.sheet_names)"
   ]
  },
  {
   "cell_type": "markdown",
   "metadata": {},
   "source": [
    "create an array of dataframes (actually dict)"
   ]
  },
  {
   "cell_type": "code",
   "execution_count": 23,
   "metadata": {},
   "outputs": [
    {
     "name": "stdout",
     "output_type": "stream",
     "text": [
      "0\n",
      "Telephone\n",
      "1\n",
      "WebChat\n",
      "2\n",
      "WebForm\n",
      "{0:    Sr         Company Name   Contact Name  Gender  Age   ProductCategory\n",
      "0   1             ABC Bros       Ravi Raj    Male   18  Web Site Hosting\n",
      "1   2             XYZ Sons    Shyam Patel    Male   30       Domain Name\n",
      "2   3  Chunilal Associates  Sunita Sharma  Female   43     Email Service\n",
      "3   4           Ramlal LLP   Pankaj Gupta    Male   55  Web Site Hosting\n",
      "4   5        Shaan Pvt Ltd    Shaan Reddy    Male   67       Domain Name, 1:    Sr          Company Name         Contact Name Gender  Age  \\\n",
      "0   1             Sony Mony         Ravina Swamy      F   19   \n",
      "1   2          Star Traders     Ria Karsan Patel      F   29   \n",
      "2   3  Channel Fashions Ltd  Sunita Sunil Sharma      M   49   \n",
      "3   4      Sunderlal & Sons        Pankaja Munde      F   59   \n",
      "4   5  Khanna & Associates         Rajesh Khanna      F   68   \n",
      "\n",
      "       ProductCategory  \n",
      "0          Web Hosting  \n",
      "1  Domain Registration  \n",
      "2        Email Service  \n",
      "3          Web Hosting  \n",
      "4  Domain Registration  , 2:    Sr           Company Name First Name Last Name  Gender  Age ProductCategory\n",
      "0   1                Star TV  Narendra     Gandhi       1   69     Web Hosting\n",
      "1   2        Tata Sons Trust      Bawi       Tata       0   32     Domain Name\n",
      "2   3       Tamil Sarkar LLP      Jaya     Lalita       0   49   Email Hosting\n",
      "3   4  Banerjee & Chatterjee      Mamta      Gosh       0   59     Web Hosting\n",
      "4   5               Reliance     Aakash    Ambani       1   21    All Services}\n"
     ]
    }
   ],
   "source": [
    "dfn={}\n",
    "for i in range(0,len(xls.sheet_names)):\n",
    "    print(i)\n",
    "    print(xls.sheet_names[i])\n",
    "    dfn[i] = xls.parse(i)\n",
    "print(dfn)"
   ]
  },
  {
   "cell_type": "code",
   "execution_count": null,
   "metadata": {},
   "outputs": [],
   "source": []
  }
 ],
 "metadata": {
  "kernelspec": {
   "display_name": "Python 3",
   "language": "python",
   "name": "python3"
  },
  "language_info": {
   "codemirror_mode": {
    "name": "ipython",
    "version": 3
   },
   "file_extension": ".py",
   "mimetype": "text/x-python",
   "name": "python",
   "nbconvert_exporter": "python",
   "pygments_lexer": "ipython3",
   "version": "3.8.5"
  }
 },
 "nbformat": 4,
 "nbformat_minor": 2
}
