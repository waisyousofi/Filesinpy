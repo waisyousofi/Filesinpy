{
 "cells": [
  {
   "cell_type": "code",
   "execution_count": 1,
   "metadata": {},
   "outputs": [],
   "source": [
    "\"\"\"\n",
    "@filename: FwfImport\n",
    "@author: waisullah yousofi\n",
    "\"\"\"\n",
    "import pandas as pd"
   ]
  },
  {
   "cell_type": "markdown",
   "metadata": {},
   "source": [
    "define column position"
   ]
  },
  {
   "cell_type": "code",
   "execution_count": 2,
   "metadata": {},
   "outputs": [],
   "source": [
    "colSpecs=[[0,19], [20,39], [40,59], [60,79], [80,89], [90,93]]"
   ]
  },
  {
   "cell_type": "markdown",
   "metadata": {},
   "source": [
    "define column names"
   ]
  },
  {
   "cell_type": "code",
   "execution_count": 3,
   "metadata": {},
   "outputs": [],
   "source": [
    "colNames=[\"Album\",\"Artist\",\"Country\",\"Company\",\"Price\",\"Year\"]"
   ]
  },
  {
   "cell_type": "markdown",
   "metadata": {},
   "source": [
    "read fixed width file"
   ]
  },
  {
   "cell_type": "code",
   "execution_count": 5,
   "metadata": {},
   "outputs": [],
   "source": [
    "df = pd.read_fwf(\"..\\dataset/Catalog.fwf\", \n",
    "                 colspecs=colSpecs, \n",
    "                 header=None, \n",
    "                 names=colNames)"
   ]
  },
  {
   "cell_type": "markdown",
   "metadata": {},
   "source": [
    "info "
   ]
  },
  {
   "cell_type": "code",
   "execution_count": 6,
   "metadata": {},
   "outputs": [
    {
     "name": "stdout",
     "output_type": "stream",
     "text": [
      "<class 'pandas.core.frame.DataFrame'>\n",
      "RangeIndex: 26 entries, 0 to 25\n",
      "Data columns (total 6 columns):\n",
      " #   Column   Non-Null Count  Dtype  \n",
      "---  ------   --------------  -----  \n",
      " 0   Album    26 non-null     object \n",
      " 1   Artist   26 non-null     object \n",
      " 2   Country  26 non-null     object \n",
      " 3   Company  26 non-null     object \n",
      " 4   Price    26 non-null     float64\n",
      " 5   Year     26 non-null     int64  \n",
      "dtypes: float64(1), int64(1), object(4)\n",
      "memory usage: 1.3+ KB\n",
      "None\n"
     ]
    }
   ],
   "source": [
    "print(df.info()) "
   ]
  },
  {
   "cell_type": "markdown",
   "metadata": {},
   "source": [
    "summary"
   ]
  },
  {
   "cell_type": "code",
   "execution_count": 7,
   "metadata": {},
   "outputs": [
    {
     "name": "stdout",
     "output_type": "stream",
     "text": [
      "           Price        Year\n",
      "count  26.000000   26.000000\n",
      "mean    9.115385  198.384615\n",
      "std     1.148109    0.637302\n",
      "min     7.200000  197.000000\n",
      "25%     8.125000  198.000000\n",
      "50%     8.900000  198.000000\n",
      "75%     9.900000  199.000000\n",
      "max    10.900000  199.000000\n"
     ]
    }
   ],
   "source": [
    "print(df.describe()) "
   ]
  },
  {
   "cell_type": "markdown",
   "metadata": {},
   "source": [
    "head"
   ]
  },
  {
   "cell_type": "code",
   "execution_count": 8,
   "metadata": {},
   "outputs": [
    {
     "name": "stdout",
     "output_type": "stream",
     "text": [
      "                 Album           Artist Country         Company  Price  Year\n",
      "0     Empire Burlesque        Bob Dylan     USA        Columbia   10.9   198\n",
      "1      Hide your heart     Bonnie Tyler      UK     CBS Records    9.9   198\n",
      "2        Greatest Hits     Dolly Parton     USA             RCA    9.9   198\n",
      "3  Still got the blues       Gary Moore      UK  Virgin records   10.2   199\n",
      "4                 Eros  Eros Ramazzotti      EU             BMG    9.9   199\n"
     ]
    }
   ],
   "source": [
    "print(df.head()) "
   ]
  },
  {
   "cell_type": "code",
   "execution_count": null,
   "metadata": {},
   "outputs": [],
   "source": []
  },
  {
   "cell_type": "code",
   "execution_count": null,
   "metadata": {},
   "outputs": [],
   "source": []
  }
 ],
 "metadata": {
  "kernelspec": {
   "display_name": "Python 3",
   "language": "python",
   "name": "python3"
  },
  "language_info": {
   "codemirror_mode": {
    "name": "ipython",
    "version": 3
   },
   "file_extension": ".py",
   "mimetype": "text/x-python",
   "name": "python",
   "nbconvert_exporter": "python",
   "pygments_lexer": "ipython3",
   "version": "3.8.5"
  }
 },
 "nbformat": 4,
 "nbformat_minor": 2
}
