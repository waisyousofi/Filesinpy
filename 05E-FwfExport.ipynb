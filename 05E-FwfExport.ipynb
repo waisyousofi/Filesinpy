{
 "cells": [
  {
   "cell_type": "code",
   "execution_count": 15,
   "metadata": {},
   "outputs": [
    {
     "data": {
      "text/plain": [
       "'\\n@filename: FwfExport.py\\n@author: waisullah yousofi\\n@url: https://docs.scipy.org/doc/numpy-1.6.0/reference/generated/numpy.savetxt.html\\n'"
      ]
     },
     "execution_count": 15,
     "metadata": {},
     "output_type": "execute_result"
    }
   ],
   "source": [
    "\"\"\"\n",
    "@filename: FwfExport.py\n",
    "@author: waisullah yousofi\n",
    "@url: https://docs.scipy.org/doc/numpy-1.6.0/reference/generated/numpy.savetxt.html\n",
    "\"\"\""
   ]
  },
  {
   "cell_type": "markdown",
   "metadata": {},
   "source": [
    "import pandas"
   ]
  },
  {
   "cell_type": "code",
   "execution_count": 16,
   "metadata": {},
   "outputs": [],
   "source": [
    "import pandas as pd\n",
    "import numpy as np"
   ]
  },
  {
   "cell_type": "markdown",
   "metadata": {},
   "source": [
    "assign spreadsheet filename: file"
   ]
  },
  {
   "cell_type": "code",
   "execution_count": 17,
   "metadata": {},
   "outputs": [],
   "source": [
    "file = '..\\dataset/Catalog.csv'"
   ]
  },
  {
   "cell_type": "markdown",
   "metadata": {},
   "source": [
    "load spreadsheet xls"
   ]
  },
  {
   "cell_type": "code",
   "execution_count": 18,
   "metadata": {},
   "outputs": [],
   "source": [
    "df = pd.read_csv(file)"
   ]
  },
  {
   "cell_type": "markdown",
   "metadata": {},
   "source": [
    "info"
   ]
  },
  {
   "cell_type": "code",
   "execution_count": 19,
   "metadata": {},
   "outputs": [
    {
     "name": "stdout",
     "output_type": "stream",
     "text": [
      "<class 'pandas.core.frame.DataFrame'>\n",
      "RangeIndex: 26 entries, 0 to 25\n",
      "Data columns (total 9 columns):\n",
      " #   Column      Non-Null Count  Dtype  \n",
      "---  ------      --------------  -----  \n",
      " 0   Unnamed: 0  26 non-null     int64  \n",
      " 1   title       26 non-null     object \n",
      " 2   artist      26 non-null     object \n",
      " 3   country     24 non-null     object \n",
      " 4   company     26 non-null     object \n",
      " 5   price       25 non-null     float64\n",
      " 6   year        26 non-null     int64  \n",
      " 7   age         26 non-null     int64  \n",
      " 8   status      26 non-null     object \n",
      "dtypes: float64(1), int64(3), object(5)\n",
      "memory usage: 2.0+ KB\n",
      "None\n"
     ]
    }
   ],
   "source": [
    "print(df.info())"
   ]
  },
  {
   "cell_type": "markdown",
   "metadata": {},
   "source": [
    "summary"
   ]
  },
  {
   "cell_type": "code",
   "execution_count": 20,
   "metadata": {},
   "outputs": [
    {
     "name": "stdout",
     "output_type": "stream",
     "text": [
      "       Unnamed: 0      price         year        age\n",
      "count   26.000000  25.000000    26.000000  26.000000\n",
      "mean    12.500000   9.048000  1988.730769  31.269231\n",
      "std      7.648529   1.118079     7.040214   7.040214\n",
      "min      0.000000   7.200000  1971.000000  21.000000\n",
      "25%      6.250000   8.100000  1985.500000  25.000000\n",
      "50%     12.500000   8.900000  1988.000000  32.000000\n",
      "75%     18.750000   9.900000  1995.000000  34.500000\n",
      "max     25.000000  10.900000  1999.000000  49.000000\n"
     ]
    }
   ],
   "source": [
    "print(df.describe())"
   ]
  },
  {
   "cell_type": "markdown",
   "metadata": {},
   "source": [
    "info"
   ]
  },
  {
   "cell_type": "code",
   "execution_count": 21,
   "metadata": {},
   "outputs": [
    {
     "name": "stdout",
     "output_type": "stream",
     "text": [
      "   Unnamed: 0              title           artist country         company  \\\n",
      "0           0  Empire, Burlesque        Bob Dylan     USA        Columbia   \n",
      "1           1    Hide your heart     Bonnie Tyler      UK     CBS Records   \n",
      "2           2      Greatest Hits     Dolly Parton     USA             RCA   \n",
      "3           3      Got the blues       Gary Moore     NaN  Virgin records   \n",
      "4           4               Eros  Eros Ramazzotti      EU             BMG   \n",
      "\n",
      "   price  year  age       status  \n",
      "0   10.9  1985   35  GoldenOldie  \n",
      "1    9.9  1988   32  GoldenOldie  \n",
      "2    9.9  1982   38  GoldenOldie  \n",
      "3   10.2  1990   30  GoldenOldie  \n",
      "4    9.9  1997   23    RecentHit  \n"
     ]
    }
   ],
   "source": [
    "print(df.head())"
   ]
  }
 ],
 "metadata": {
  "kernelspec": {
   "display_name": "Python 3",
   "language": "python",
   "name": "python3"
  },
  "language_info": {
   "codemirror_mode": {
    "name": "ipython",
    "version": 3
   },
   "file_extension": ".py",
   "mimetype": "text/x-python",
   "name": "python",
   "nbconvert_exporter": "python",
   "pygments_lexer": "ipython3",
   "version": "3.8.5"
  }
 },
 "nbformat": 4,
 "nbformat_minor": 2
}
