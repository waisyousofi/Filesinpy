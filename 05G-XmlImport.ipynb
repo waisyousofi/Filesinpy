{
 "cells": [
  {
   "cell_type": "code",
   "execution_count": 1,
   "metadata": {},
   "outputs": [
    {
     "data": {
      "text/plain": [
       "'\\n@filename: XmlImport\\n@author: waisullah yousofi\\n'"
      ]
     },
     "execution_count": 1,
     "metadata": {},
     "output_type": "execute_result"
    }
   ],
   "source": [
    "\"\"\"\n",
    "@filename: XmlImport\n",
    "@author: waisullah yousofi\n",
    "\"\"\""
   ]
  },
  {
   "cell_type": "markdown",
   "metadata": {},
   "source": [
    "import pandas"
   ]
  },
  {
   "cell_type": "code",
   "execution_count": 2,
   "metadata": {},
   "outputs": [],
   "source": [
    "import pandas as pd\n",
    "import xml.etree.cElementTree as et"
   ]
  },
  {
   "cell_type": "markdown",
   "metadata": {},
   "source": [
    "function <br>\n",
    "return node text or None "
   ]
  },
  {
   "cell_type": "code",
   "execution_count": 3,
   "metadata": {},
   "outputs": [],
   "source": [
    "def getvalueofnode(node):\n",
    "    return node.text if node is not None else None"
   ]
  },
  {
   "cell_type": "markdown",
   "metadata": {},
   "source": [
    "assign spreadsheet filename: file"
   ]
  },
  {
   "cell_type": "code",
   "execution_count": 4,
   "metadata": {},
   "outputs": [
    {
     "name": "stdout",
     "output_type": "stream",
     "text": [
      "Index(['TITLE', 'ARTIST', 'COUNTRY', 'COMPANY', 'PRICE', 'YEAR'], dtype='object')\n"
     ]
    }
   ],
   "source": [
    "oXML = et.parse('..\\dataset/Catalog.xml')\n",
    "colNames = ['TITLE', 'ARTIST', 'COUNTRY', 'COMPANY','PRICE','YEAR']\n",
    "df = pd.DataFrame(columns=colNames)\n",
    "for node in oXML.getroot():\n",
    "    TITLE = node.find('TITLE')\n",
    "    ARTIST = node.find('ARTIST')\n",
    "    COUNTRY = node.find('COUNTRY')\n",
    "    COMPANY = node.find('COMPANY')\n",
    "    PRICE = node.find('PRICE')\n",
    "    YEAR = node.find('YEAR')\n",
    "    df = df.append(pd.Series([getvalueofnode(TITLE), getvalueofnode(ARTIST), \n",
    "                              getvalueofnode(COUNTRY), getvalueofnode(COMPANY), \n",
    "                              getvalueofnode(PRICE), getvalueofnode(YEAR)], \n",
    "                            index=colNames),\n",
    "                            ignore_index=True)\n",
    " # columns\n",
    "print(df.columns) "
   ]
  },
  {
   "cell_type": "code",
   "execution_count": 5,
   "metadata": {},
   "outputs": [
    {
     "name": "stdout",
     "output_type": "stream",
     "text": [
      "<class 'pandas.core.frame.DataFrame'>\n",
      "RangeIndex: 26 entries, 0 to 25\n",
      "Data columns (total 6 columns):\n",
      " #   Column   Non-Null Count  Dtype \n",
      "---  ------   --------------  ----- \n",
      " 0   TITLE    26 non-null     object\n",
      " 1   ARTIST   26 non-null     object\n",
      " 2   COUNTRY  26 non-null     object\n",
      " 3   COMPANY  26 non-null     object\n",
      " 4   PRICE    26 non-null     object\n",
      " 5   YEAR     26 non-null     object\n",
      "dtypes: object(6)\n",
      "memory usage: 1.3+ KB\n",
      "None\n"
     ]
    }
   ],
   "source": [
    " # info \n",
    "print(df.info()) "
   ]
  },
  {
   "cell_type": "markdown",
   "metadata": {},
   "source": [
    "summary"
   ]
  },
  {
   "cell_type": "code",
   "execution_count": 6,
   "metadata": {},
   "outputs": [
    {
     "name": "stdout",
     "output_type": "stream",
     "text": [
      "                   TITLE          ARTIST COUNTRY  COMPANY PRICE  YEAR\n",
      "count                 26              26      26       26    26    26\n",
      "unique                26              26       4       22    12    14\n",
      "top     The very best of  The Communards      UK  Polydor  9.90  1987\n",
      "freq                   1               1      13        3     5     5\n"
     ]
    }
   ],
   "source": [
    "print(df.describe()) "
   ]
  },
  {
   "cell_type": "markdown",
   "metadata": {},
   "source": [
    "head"
   ]
  },
  {
   "cell_type": "code",
   "execution_count": 7,
   "metadata": {},
   "outputs": [
    {
     "name": "stdout",
     "output_type": "stream",
     "text": [
      "                 TITLE           ARTIST COUNTRY         COMPANY  PRICE  YEAR\n",
      "0     Empire Burlesque        Bob Dylan     USA        Columbia  10.90  1985\n",
      "1      Hide your heart     Bonnie Tyler      UK     CBS Records   9.90  1988\n",
      "2        Greatest Hits     Dolly Parton     USA             RCA   9.90  1982\n",
      "3  Still got the blues       Gary Moore      UK  Virgin records  10.20  1990\n",
      "4                 Eros  Eros Ramazzotti      EU             BMG   9.90  1997\n"
     ]
    }
   ],
   "source": [
    "print(df.head())"
   ]
  },
  {
   "cell_type": "code",
   "execution_count": null,
   "metadata": {},
   "outputs": [],
   "source": [
    " "
   ]
  }
 ],
 "metadata": {
  "kernelspec": {
   "display_name": "Python 3",
   "language": "python",
   "name": "python3"
  },
  "language_info": {
   "codemirror_mode": {
    "name": "ipython",
    "version": 3
   },
   "file_extension": ".py",
   "mimetype": "text/x-python",
   "name": "python",
   "nbconvert_exporter": "python",
   "pygments_lexer": "ipython3",
   "version": "3.8.5"
  }
 },
 "nbformat": 4,
 "nbformat_minor": 2
}
