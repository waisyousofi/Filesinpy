{
 "cells": [
  {
   "cell_type": "code",
   "execution_count": 1,
   "metadata": {},
   "outputs": [
    {
     "data": {
      "text/plain": [
       "'\\n@filename: JsonImport.py\\n@author: cyruslentin\\n'"
      ]
     },
     "execution_count": 1,
     "metadata": {},
     "output_type": "execute_result"
    }
   ],
   "source": [
    "\"\"\"\n",
    "@filename: JsonImport.py\n",
    "@author: cyruslentin\n",
    "\"\"\""
   ]
  },
  {
   "cell_type": "markdown",
   "metadata": {},
   "source": [
    "import pandas"
   ]
  },
  {
   "cell_type": "code",
   "execution_count": 2,
   "metadata": {},
   "outputs": [],
   "source": [
    "import pandas as pd\n",
    "import json"
   ]
  },
  {
   "cell_type": "code",
   "execution_count": 3,
   "metadata": {},
   "outputs": [
    {
     "name": "stdout",
     "output_type": "stream",
     "text": [
      "TITLE: Empire Burlesque\n",
      "ARTIST: Bob Dylan\n",
      "COUNTRY: USA\n",
      "COMPANY: Columbia\n",
      "PRICE: 10.9\n",
      "YEAR: 1985\n",
      "\n",
      "TITLE: Hide your heart\n",
      "ARTIST: Bonnie Tyler\n",
      "COUNTRY: UK\n",
      "COMPANY: CBS Records\n",
      "PRICE: 9.9\n",
      "YEAR: 1988\n",
      "\n",
      "TITLE: Greatest Hits\n",
      "ARTIST: Dolly Parton\n",
      "COUNTRY: USA\n",
      "COMPANY: RCA\n",
      "PRICE: 9.9\n",
      "YEAR: 1982\n",
      "\n",
      "TITLE: Still got the blues\n",
      "ARTIST: Gary Moore\n",
      "COUNTRY: UK\n",
      "COMPANY: Virgin records\n",
      "PRICE: 10.2\n",
      "YEAR: 1990\n",
      "\n",
      "TITLE: Eros\n",
      "ARTIST: Eros Ramazzotti\n",
      "COUNTRY: EU\n",
      "COMPANY: BMG\n",
      "PRICE: 9.9\n",
      "YEAR: 1997\n",
      "\n",
      "TITLE: One night only\n",
      "ARTIST: Bee Gees\n",
      "COUNTRY: UK\n",
      "COMPANY: Polydor\n",
      "PRICE: 10.9\n",
      "YEAR: 1998\n",
      "\n",
      "TITLE: Sylvias Mother\n",
      "ARTIST: Dr.Hook\n",
      "COUNTRY: UK\n",
      "COMPANY: CBS\n",
      "PRICE: 8.1\n",
      "YEAR: 1973\n",
      "\n",
      "TITLE: Maggie May\n",
      "ARTIST: Rod Stewart\n",
      "COUNTRY: UK\n",
      "COMPANY: Pickwick\n",
      "PRICE: 8.5\n",
      "YEAR: 1990\n",
      "\n",
      "TITLE: Romanza\n",
      "ARTIST: Andrea Bocelli\n",
      "COUNTRY: EU\n",
      "COMPANY: Polydor\n",
      "PRICE: 10.8\n",
      "YEAR: 1996\n",
      "\n",
      "TITLE: When a man loves a woman\n",
      "ARTIST: Percy Sledge\n",
      "COUNTRY: USA\n",
      "COMPANY: Atlantic\n",
      "PRICE: 8.7\n",
      "YEAR: 1987\n",
      "\n",
      "TITLE: Black angel\n",
      "ARTIST: Savage Rose\n",
      "COUNTRY: EU\n",
      "COMPANY: Mega\n",
      "PRICE: 10.9\n",
      "YEAR: 1995\n",
      "\n",
      "TITLE: 1999 Grammy Nominees\n",
      "ARTIST: Many\n",
      "COUNTRY: USA\n",
      "COMPANY: Grammy\n",
      "PRICE: 10.2\n",
      "YEAR: 1999\n",
      "\n",
      "TITLE: For the good times\n",
      "ARTIST: Kenny Rogers\n",
      "COUNTRY: UK\n",
      "COMPANY: Mucik Master\n",
      "PRICE: 8.7\n",
      "YEAR: 1995\n",
      "\n",
      "TITLE: Big Willie style\n",
      "ARTIST: Will Smith\n",
      "COUNTRY: USA\n",
      "COMPANY: Columbia\n",
      "PRICE: 9.9\n",
      "YEAR: 1997\n",
      "\n",
      "TITLE: Tupelo Honey\n",
      "ARTIST: Van Morrison\n",
      "COUNTRY: UK\n",
      "COMPANY: Polydor\n",
      "PRICE: 8.2\n",
      "YEAR: 1971\n",
      "\n",
      "TITLE: Soulsville\n",
      "ARTIST: Jorn Hoel\n",
      "COUNTRY: Norway\n",
      "COMPANY: WEA\n",
      "PRICE: 7.9\n",
      "YEAR: 1996\n",
      "\n",
      "TITLE: The very best of\n",
      "ARTIST: Cat Stevens\n",
      "COUNTRY: UK\n",
      "COMPANY: Island\n",
      "PRICE: 8.9\n",
      "YEAR: 1990\n",
      "\n",
      "TITLE: Stop\n",
      "ARTIST: Sam Brown\n",
      "COUNTRY: UK\n",
      "COMPANY: A and M\n",
      "PRICE: 8.9\n",
      "YEAR: 1988\n",
      "\n",
      "TITLE: Bridge of Spies\n",
      "ARTIST: T'Pau\n",
      "COUNTRY: UK\n",
      "COMPANY: Siren\n",
      "PRICE: 7.9\n",
      "YEAR: 1987\n",
      "\n",
      "TITLE: Private Dancer\n",
      "ARTIST: Tina Turner\n",
      "COUNTRY: UK\n",
      "COMPANY: Capitol\n",
      "PRICE: 8.9\n",
      "YEAR: 1983\n",
      "\n",
      "TITLE: Midt om natten\n",
      "ARTIST: Kim Larsen\n",
      "COUNTRY: EU\n",
      "COMPANY: Medley\n",
      "PRICE: 7.8\n",
      "YEAR: 1983\n",
      "\n",
      "TITLE: Pavarotti Gala Concert\n",
      "ARTIST: Luciano Pavarotti\n",
      "COUNTRY: UK\n",
      "COMPANY: DECCA\n",
      "PRICE: 9.9\n",
      "YEAR: 1991\n",
      "\n",
      "TITLE: The dock of the bay\n",
      "ARTIST: Otis Redding\n",
      "COUNTRY: USA\n",
      "COMPANY: Atlantic\n",
      "PRICE: 7.9\n",
      "YEAR: 1987\n",
      "\n",
      "TITLE: Picture book\n",
      "ARTIST: Simply Red\n",
      "COUNTRY: EU\n",
      "COMPANY: Elektra\n",
      "PRICE: 7.2\n",
      "YEAR: 1985\n",
      "\n",
      "TITLE: Red\n",
      "ARTIST: The Communards\n",
      "COUNTRY: UK\n",
      "COMPANY: London\n",
      "PRICE: 7.8\n",
      "YEAR: 1987\n",
      "\n",
      "TITLE: Unchain my heart\n",
      "ARTIST: Joe Cocker\n",
      "COUNTRY: USA\n",
      "COMPANY: EMI\n",
      "PRICE: 8.2\n",
      "YEAR: 1987\n",
      "\n"
     ]
    }
   ],
   "source": [
    "with open('..\\dataset/Catalog.json') as jsonFile:  \n",
    "    data = json.load(jsonFile)\n",
    "    for p in data['Catalog']:\n",
    "        print('TITLE: ' + p['TITLE'])\n",
    "        print('ARTIST: ' + p['ARTIST'])\n",
    "        print('COUNTRY: ' + p['COUNTRY'])\n",
    "        print('COMPANY: ' + p['COMPANY'])\n",
    "        print('PRICE: ' + p['PRICE'])\n",
    "        print('YEAR: ' + p['YEAR'])\n",
    "        print('')"
   ]
  },
  {
   "cell_type": "markdown",
   "metadata": {},
   "source": [
    "create empty dataframe"
   ]
  },
  {
   "cell_type": "code",
   "execution_count": 4,
   "metadata": {},
   "outputs": [],
   "source": [
    "df = pd.DataFrame(columns=['TITLE','ARTIST','COUNTRY','COMPANY','PRICE','YEAR'])"
   ]
  },
  {
   "cell_type": "markdown",
   "metadata": {},
   "source": [
    "read jason file"
   ]
  },
  {
   "cell_type": "code",
   "execution_count": 6,
   "metadata": {},
   "outputs": [
    {
     "name": "stdout",
     "output_type": "stream",
     "text": [
      "Index(['TITLE', 'ARTIST', 'COUNTRY', 'COMPANY', 'PRICE', 'YEAR'], dtype='object')\n"
     ]
    }
   ],
   "source": [
    "with open('..\\dataset/Catalog.json') as jsonFile:  \n",
    "    data = json.load(jsonFile)\n",
    "    for p in data['Catalog']:\n",
    "        dft= pd.DataFrame({'TITLE':  p['TITLE'],  'ARTIST': p['ARTIST'], \n",
    "                           'COUNTRY':  p['COUNTRY'], 'COMPANY': p['COMPANY'],  \n",
    "                           'PRICE':  p['PRICE'], 'YEAR': p['YEAR']}, index=[0])\n",
    "        df = df.append(dft, ignore_index=True)\n",
    "df = df[['TITLE','ARTIST','COUNTRY','COMPANY','PRICE','YEAR']]\n",
    "    \n",
    "# columns\n",
    "print(df.columns) "
   ]
  },
  {
   "cell_type": "code",
   "execution_count": 7,
   "metadata": {},
   "outputs": [
    {
     "name": "stdout",
     "output_type": "stream",
     "text": [
      "<class 'pandas.core.frame.DataFrame'>\n",
      "RangeIndex: 26 entries, 0 to 25\n",
      "Data columns (total 6 columns):\n",
      " #   Column   Non-Null Count  Dtype \n",
      "---  ------   --------------  ----- \n",
      " 0   TITLE    26 non-null     object\n",
      " 1   ARTIST   26 non-null     object\n",
      " 2   COUNTRY  26 non-null     object\n",
      " 3   COMPANY  26 non-null     object\n",
      " 4   PRICE    26 non-null     object\n",
      " 5   YEAR     26 non-null     object\n",
      "dtypes: object(6)\n",
      "memory usage: 1.3+ KB\n",
      "None\n"
     ]
    }
   ],
   "source": [
    " # info \n",
    "print(df.info()) "
   ]
  },
  {
   "cell_type": "markdown",
   "metadata": {},
   "source": [
    "summary"
   ]
  },
  {
   "cell_type": "code",
   "execution_count": 8,
   "metadata": {},
   "outputs": [
    {
     "name": "stdout",
     "output_type": "stream",
     "text": [
      "                   TITLE        ARTIST COUNTRY  COMPANY PRICE  YEAR\n",
      "count                 26            26      26       26    26    26\n",
      "unique                26            26       4       22    12    14\n",
      "top     Empire Burlesque  Percy Sledge      UK  Polydor   9.9  1987\n",
      "freq                   1             1      13        3     5     5\n"
     ]
    }
   ],
   "source": [
    "print(df.describe()) "
   ]
  },
  {
   "cell_type": "markdown",
   "metadata": {},
   "source": [
    "head"
   ]
  },
  {
   "cell_type": "code",
   "execution_count": 9,
   "metadata": {},
   "outputs": [
    {
     "name": "stdout",
     "output_type": "stream",
     "text": [
      "                 TITLE           ARTIST COUNTRY         COMPANY PRICE  YEAR\n",
      "0     Empire Burlesque        Bob Dylan     USA        Columbia  10.9  1985\n",
      "1      Hide your heart     Bonnie Tyler      UK     CBS Records   9.9  1988\n",
      "2        Greatest Hits     Dolly Parton     USA             RCA   9.9  1982\n",
      "3  Still got the blues       Gary Moore      UK  Virgin records  10.2  1990\n",
      "4                 Eros  Eros Ramazzotti      EU             BMG   9.9  1997\n"
     ]
    }
   ],
   "source": [
    "print(df.head())"
   ]
  },
  {
   "cell_type": "code",
   "execution_count": null,
   "metadata": {},
   "outputs": [],
   "source": [
    " "
   ]
  },
  {
   "cell_type": "code",
   "execution_count": null,
   "metadata": {},
   "outputs": [],
   "source": []
  }
 ],
 "metadata": {
  "kernelspec": {
   "display_name": "Python 3",
   "language": "python",
   "name": "python3"
  },
  "language_info": {
   "codemirror_mode": {
    "name": "ipython",
    "version": 3
   },
   "file_extension": ".py",
   "mimetype": "text/x-python",
   "name": "python",
   "nbconvert_exporter": "python",
   "pygments_lexer": "ipython3",
   "version": "3.8.5"
  }
 },
 "nbformat": 4,
 "nbformat_minor": 2
}
